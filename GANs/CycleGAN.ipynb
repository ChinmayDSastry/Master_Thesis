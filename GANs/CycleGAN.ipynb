{
 "cells": [
  {
   "cell_type": "markdown",
   "metadata": {},
   "source": [
    "CYCLEGAN"
   ]
  },
  {
   "cell_type": "code",
   "execution_count": 1,
   "metadata": {},
   "outputs": [
    {
     "name": "stdout",
     "output_type": "stream",
     "text": [
      "^C\n"
     ]
    }
   ],
   "source": [
    "#Clone the repository to train CycleGAN\n",
    "!git clone https://github.com/junyanz/pytorch-CycleGAN-and-pix2pix"
   ]
  },
  {
   "cell_type": "code",
   "execution_count": null,
   "metadata": {},
   "outputs": [],
   "source": [
    "import os\n",
    "os.chdir('pytorch-CycleGAN-and-pix2pix/')"
   ]
  },
  {
   "cell_type": "code",
   "execution_count": null,
   "metadata": {},
   "outputs": [],
   "source": [
    "#Installing all the dependencies required for running the software\n",
    "!pip install -r requirements.txt"
   ]
  },
  {
   "attachments": {
    "directory.PNG": {
     "image/png": "[encoded data removed]"
    }
   },
   "cell_type": "markdown",
   "metadata": {},
   "source": [
    "Make a folder called /path/to/data with two subdirectories named A and B. A and B should each have their own training images. Put training images in day scene in /path/to/data/A/train. Put the night/fog images in /path/to/data/B/train. ![directory.PNG](attachment:directory.PNG)\n"
   ]
  },
  {
   "cell_type": "markdown",
   "metadata": {},
   "source": [
    "The training options like epochs and models can be changed in the file /pytorch-CycleGAN-and-pix2pix/options/base_options.py. In the file /pytorch-CycleGAN-and-pix2pix/options/train_options.py, the training options can be changed like the learning rate and the loss function of GAN"
   ]
  },
  {
   "cell_type": "code",
   "execution_count": null,
   "metadata": {},
   "outputs": [],
   "source": [
    "#Training CycleGAN. The compiler will automatically consider the directories trainA and trainB from the main directory\n",
    "!python train.py --dataroot /path/to/data  --model cycle_gan --checkpoints_dir customModel --name day-night512_v2 --preprocess scale_width_and_crop --load_size 512 "
   ]
  },
  {
   "cell_type": "code",
   "execution_count": null,
   "metadata": {},
   "outputs": [],
   "source": [
    "#Testing CycleGAN after training\n",
    "#For images of size 512x512 which was the same size as well during training. --preprocess scale_width will make sure that the testing takes place at same scale as training\n",
    "!python test.py --dataroot datasets/day-night-512 --checkpoints_dir customModel --name day-night512_v2 --model cycle_gan --no_dropout --preprocess none --load_size 512 "
   ]
  },
  {
   "cell_type": "code",
   "execution_count": null,
   "metadata": {},
   "outputs": [],
   "source": []
  }
 ],
 "metadata": {
  "kernelspec": {
   "display_name": "Python 3",
   "language": "python",
   "name": "python3"
  },
  "language_info": {
   "codemirror_mode": {
    "name": "ipython",
    "version": 3
   },
   "file_extension": ".py",
   "mimetype": "text/x-python",
   "name": "python",
   "nbconvert_exporter": "python",
   "pygments_lexer": "ipython3",
   "version": "3.8.3"
  }
 },
 "nbformat": 4,
 "nbformat_minor": 4
}
